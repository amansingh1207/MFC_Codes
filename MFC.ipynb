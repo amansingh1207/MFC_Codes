{
 "cells": [
  {
   "cell_type": "code",
   "execution_count": 14,
   "id": "f1cbcc06",
   "metadata": {},
   "outputs": [],
   "source": [
    "# these are the different representations of a graph\n",
    "adjacency_list = {'HG':['CH', 'M', 'CB'], 'CH': ['HG','P', 'SRM'], 'CB': ['Q', 'HG'], 'M':['HG', 'SRM'], 'SRM': ['CH', 'M']}\n",
    "adjacency_matrix = [\n",
    "    [0, 1, 1, 1, 0],\n",
    "    [1, 0, 0, 1, 1],\n",
    "    [1, 0, 0, 0, 0],\n",
    "    [1, 0, 0, 0, 1],\n",
    "    [0, 1, 0, 1, 0]\n",
    "\n",
    "]\n",
    "names = ['HG', 'CH', 'CB', 'M', 'SRM']\n",
    "edge_lst = [('HG','CH'), ('HG','M'), ('HG','CB'), ('CH','HG'), ('CH','P'),('CH','SRM'), ('CB','Q'), ('CB','HG'), ('M','HG'), ('M','SRM'), ('SRM','CH'), ('SRM','M')]\n"
   ]
  },
  {
   "cell_type": "markdown",
   "id": "4e3743f2",
   "metadata": {},
   "source": [
    "#1 Write a code to find the degree of each vertex, and store it in a dictionary. Sort the keys of the dictionary by the degree stored in the values."
   ]
  },
  {
   "cell_type": "code",
   "execution_count": 1,
   "id": "9398353f",
   "metadata": {},
   "outputs": [],
   "source": [
    "def func(data):\n",
    "    degree_dict = {}\n",
    "\n",
    "    # Case 1: Input is an adjacency list represented as a dictionary\n",
    "    if type(data) == dict:\n",
    "        for vertex in data:\n",
    "            # Degree is the number of connections (neighbors)\n",
    "            degree_dict[vertex] = len(data[vertex])\n",
    "\n",
    "    # Case 2: Input is a list\n",
    "    elif type(data) == list:\n",
    "        # Case 2.1: List of edges (tuples)\n",
    "        if type(data[0]) == tuple:\n",
    "            names = ['HG', 'CH', 'CB', 'M', 'SRM']\n",
    "            for name in names:\n",
    "                count = 0\n",
    "                for edge in data:\n",
    "                    # Count if vertex appears in either end of the edge\n",
    "                    if edge[0] == name or edge[1] == name:\n",
    "                        count += 1\n",
    "                degree_dict[name] = count\n",
    "\n",
    "        # Case 2.2: Adjacency matrix\n",
    "        elif type(data[0]) == list:\n",
    "            names = ['HG', 'CH', 'CB', 'M', 'SRM']\n",
    "            for i in range(len(names)):\n",
    "                count = 0\n",
    "                for j in range(len(names)):\n",
    "                    # Check if there's a connection in the matrix\n",
    "                    if data[i][j] == 1:\n",
    "                        count += 1\n",
    "                degree_dict[names[i]] = count\n",
    "\n",
    "    # Sort the dictionary by degree value\n",
    "    sorted_degree_dict = dict(sorted(degree_dict.items(), key=lambda x: x[1]))\n",
    "    \n",
    "    return sorted_degree_dict\n"
   ]
  },
  {
   "cell_type": "markdown",
   "id": "19cbdce6",
   "metadata": {},
   "source": [
    "#2 Write a code to inter-convert the 3 graph representations we have learnt"
   ]
  },
  {
   "cell_type": "code",
   "execution_count": 2,
   "id": "6a7f1a54",
   "metadata": {},
   "outputs": [],
   "source": [
    "def adjacency_list_to_matrix(adjacency_list, names):\n",
    "    size = len(names)\n",
    "    matrix = [[0 for _ in range(size)] for _ in range(size)]\n",
    "\n",
    "    for key in adjacency_list:\n",
    "        if key in names:\n",
    "            row = names.index(key)\n",
    "            for neighbor in adjacency_list[key]:\n",
    "                if neighbor in names:\n",
    "                    col = names.index(neighbor)\n",
    "                    matrix[row][col] = 1\n",
    "    return matrix"
   ]
  },
  {
   "cell_type": "code",
   "execution_count": 3,
   "id": "6c7733b4",
   "metadata": {},
   "outputs": [],
   "source": [
    "def adjacency_matrix_to_edge_list(matrix, names):\n",
    "    edge_list = []\n",
    "    for i in range(len(matrix)):\n",
    "        for j in range(len(matrix[i])):\n",
    "            if matrix[i][j] == 1:\n",
    "                edge_list.append((names[i], names[j]))\n",
    "    return edge_list"
   ]
  },
  {
   "cell_type": "code",
   "execution_count": 4,
   "id": "faba42a6",
   "metadata": {},
   "outputs": [],
   "source": [
    "def edge_list_to_adjacency_list(edge_list):\n",
    "    adjacency_list = {}\n",
    "    \n",
    "    for u, v in edge_list:\n",
    "        # Add edge u -> v\n",
    "        if u not in adjacency_list:\n",
    "            adjacency_list[u] = []\n",
    "        adjacency_list[u].append(v)\n",
    "        \n",
    "        # Add edge v -> u (since the graph is undirected)\n",
    "        if v not in adjacency_list:\n",
    "            adjacency_list[v] = []\n",
    "        adjacency_list[v].append(u)\n",
    "    \n",
    "    return adjacency_list"
   ]
  },
  {
   "cell_type": "markdown",
   "id": "81563058",
   "metadata": {},
   "source": [
    "#3 Given a graph and two vertices, check if they are adjacent."
   ]
  },
  {
   "cell_type": "code",
   "execution_count": 5,
   "id": "0b316ec2",
   "metadata": {},
   "outputs": [],
   "source": [
    "def check_adjacent(v1, v2, adj_list):\n",
    "    for key_nodes in adj_list:  # go through each vertex in the graph\n",
    "        if key_nodes == v1:  # when we find the first vertex\n",
    "            for nb_nodes in adj_list[v1]:  # check all its neighbors\n",
    "                if nb_nodes == v2:  # if the second vertex is a neighbor\n",
    "                    return True  # they are adjacent\n",
    "    return False  # not found, so they are not adjacent\n"
   ]
  },
  {
   "cell_type": "markdown",
   "id": "86f67dc1",
   "metadata": {},
   "source": [
    "#4 Check if a graph is complete."
   ]
  },
  {
   "cell_type": "code",
   "execution_count": 6,
   "id": "2d30517a",
   "metadata": {},
   "outputs": [],
   "source": [
    "def check_complete(adj_list):\n",
    "    total_vertices = len(adj_list)  # count total number of vertices\n",
    "\n",
    "    for key_nodes in adj_list:\n",
    "        neighbors = set(adj_list[key_nodes])  # get the neighbors of the current vertex\n",
    "\n",
    "        # In a complete graph, each vertex should be connected to all other vertices (except itself)\n",
    "        if len(neighbors) != total_vertices - 1:\n",
    "            return False  # not connected to all other vertices\n",
    "\n",
    "    return True  # all vertices are connected to every other vertex\n"
   ]
  },
  {
   "cell_type": "markdown",
   "id": "9334b2e1",
   "metadata": {},
   "source": [
    "#5 Check if a graph is connected."
   ]
  },
  {
   "cell_type": "code",
   "execution_count": 7,
   "id": "68ee0fad",
   "metadata": {},
   "outputs": [],
   "source": [
    "from collections import deque\n",
    "\n",
    "# Function to check if the graph is connected\n",
    "def is_connected(adj_list):\n",
    "    visited = []  # to keep track of visited nodes\n",
    "    queue = deque()  # initialize queue\n",
    "\n",
    "    # Start BFS from the first node in the graph\n",
    "    start_node = list(adj_list.keys())[0]\n",
    "    queue.append(start_node)\n",
    "    visited.append(start_node)\n",
    "\n",
    "    while queue:\n",
    "        current = queue.popleft()  # get one node from the queue\n",
    "        for neighbor in adj_list[current]:  # go through all its neighbors\n",
    "            if neighbor not in visited:\n",
    "                visited.append(neighbor)\n",
    "                queue.append(neighbor)  # add unvisited neighbors to the queue\n",
    "\n",
    "    # After traversal, if all nodes were visited, graph is connected\n",
    "    return len(visited) == len(adj_list)\n"
   ]
  },
  {
   "cell_type": "markdown",
   "id": "c136b0d2",
   "metadata": {},
   "source": [
    "#6 Given a graph and a list of vertices, check if it forms a walk, or a trail or a path or none of these."
   ]
  },
  {
   "cell_type": "code",
   "execution_count": 8,
   "id": "f79bfe82",
   "metadata": {},
   "outputs": [],
   "source": [
    "def check_walk_trail_path_nota(seq, edge_list):\n",
    "    # First, create a list of all edges including both directions (for undirected graph)\n",
    "    all_edges = []\n",
    "    for edge in edge_list:\n",
    "        u, v = edge\n",
    "        all_edges.append((u, v))\n",
    "        all_edges.append((v, u))  # Add reverse direction\n",
    "\n",
    "    # Function to check if the sequence is a walk\n",
    "    def is_walk(seq):\n",
    "        for i in range(len(seq) - 1):\n",
    "            if (seq[i], seq[i+1]) not in all_edges:\n",
    "                return False  # If even one edge is missing, it's not a walk\n",
    "        return True\n",
    "\n",
    "    # Function to check if the sequence is a trail (no repeated edges)\n",
    "    def is_trail(seq):\n",
    "        if is_walk(seq) == False:\n",
    "            return False  # Must be a walk first\n",
    "        seen_edges = []\n",
    "        for i in range(len(seq) - 1):\n",
    "            u = seq[i]\n",
    "            v = seq[i+1]\n",
    "            # To handle undirected edges, store as sorted pair\n",
    "            edge = tuple(sorted([u, v]))\n",
    "            if edge in seen_edges:\n",
    "                return False  # Edge repeated → not a trail\n",
    "            seen_edges.append(edge)\n",
    "        return True\n",
    "\n",
    "    # Function to check if the sequence is a path (no repeated vertices)\n",
    "    def is_path(seq):\n",
    "        if is_trail(seq) == False:\n",
    "            return False  # Must be a trail first\n",
    "        if len(seq) != len(set(seq)):\n",
    "            return False  # Vertices repeated → not a path\n",
    "        return True\n",
    "\n",
    "    # Decide the type in order of strictness\n",
    "    if is_path(seq):\n",
    "        return \"Path\"\n",
    "    elif is_trail(seq):\n",
    "        return \"Trail\"\n",
    "    elif is_walk(seq):\n",
    "        return \"Walk\"\n",
    "    else:\n",
    "        return \"None\"\n"
   ]
  },
  {
   "cell_type": "markdown",
   "id": "86161268",
   "metadata": {},
   "source": [
    "#7 Check if a given graph is a tree."
   ]
  },
  {
   "cell_type": "code",
   "execution_count": 9,
   "id": "edf3ed55",
   "metadata": {},
   "outputs": [],
   "source": [
    "from collections import deque\n",
    "\n",
    "def is_tree(adj_list):\n",
    "    visited = []\n",
    "    parent = {}\n",
    "    queue = deque()\n",
    "\n",
    "    # Start BFS from the first node\n",
    "    start_node = list(adj_list.keys())[0]\n",
    "    queue.append(start_node)\n",
    "    visited.append(start_node)\n",
    "    parent[start_node] = None  # root has no parent\n",
    "\n",
    "    while queue:\n",
    "        current = queue.popleft()\n",
    "        for neighbor in adj_list[current]:\n",
    "            if neighbor not in visited:\n",
    "                visited.append(neighbor)\n",
    "                queue.append(neighbor)\n",
    "                parent[neighbor] = current\n",
    "            elif parent[current] != neighbor:\n",
    "                # If the neighbor is visited and not the parent, a cycle is found\n",
    "                return False\n",
    "\n",
    "    # If the number of visited nodes is not equal to total nodes, graph is not connected\n",
    "    if len(visited) != len(adj_list):\n",
    "        return False\n",
    "\n",
    "    return True  # If no cycles and connected, it's a tree\n"
   ]
  },
  {
   "cell_type": "markdown",
   "id": "fba62a17",
   "metadata": {},
   "source": [
    "#8 Given a connected cyclic graph, find its spanning tree"
   ]
  },
  {
   "cell_type": "code",
   "execution_count": null,
   "id": "e2e1f2f7",
   "metadata": {},
   "outputs": [],
   "source": []
  },
  {
   "cell_type": "markdown",
   "id": "63a70fda",
   "metadata": {},
   "source": [
    "#9 Given a tree, find the number of leaf nodes"
   ]
  },
  {
   "cell_type": "code",
   "execution_count": 10,
   "id": "53a89a97",
   "metadata": {},
   "outputs": [],
   "source": [
    "def count_leaf_nodes_directed(adj_list):\n",
    "    leaf_count = 0\n",
    "\n",
    "    # Go through each node and check if it has no outgoing edges\n",
    "    for node in adj_list:\n",
    "        if len(adj_list[node]) == 0:  # Node has no outgoing edges, it is a leaf\n",
    "            leaf_count += 1\n",
    "\n",
    "    return leaf_count\n"
   ]
  },
  {
   "cell_type": "markdown",
   "id": "c2a6d669",
   "metadata": {},
   "source": [
    "#10 Given a tree, check if it's a binary tree"
   ]
  },
  {
   "cell_type": "code",
   "execution_count": 11,
   "id": "a158abba",
   "metadata": {},
   "outputs": [],
   "source": [
    "def is_binary_tree(adj_list):\n",
    "    for node in adj_list:\n",
    "        if len(adj_list[node]) > 2:  # If any node has more than 2 children\n",
    "            return False \n",
    "    return True \n"
   ]
  },
  {
   "cell_type": "markdown",
   "id": "a66fadbb",
   "metadata": {},
   "source": [
    "#11 Given a tree and a node, find its height"
   ]
  },
  {
   "cell_type": "code",
   "execution_count": 12,
   "id": "a10bce87",
   "metadata": {},
   "outputs": [],
   "source": [
    "def find_height(adj_list, node):\n",
    "    # Helper function to recursively calculate the height\n",
    "    def dfs(current_node):\n",
    "        # If the node has no children, it's a leaf, so height is 0\n",
    "        if current_node not in adj_list or len(adj_list[current_node]) == 0:\n",
    "            return 0\n",
    "        \n",
    "        # Recursively calculate the height of all children and return the max height\n",
    "        child_heights = [dfs(child) for child in adj_list[current_node]]\n",
    "        return 1 + max(child_heights)  # Add 1 for the current node\n",
    "\n",
    "    return dfs(node)\n"
   ]
  },
  {
   "cell_type": "markdown",
   "id": "404e28ed",
   "metadata": {},
   "source": [
    "#12 Given a tree and a node, find its depth"
   ]
  },
  {
   "cell_type": "code",
   "execution_count": 13,
   "id": "305fcc84",
   "metadata": {},
   "outputs": [],
   "source": [
    "def find_depth(adj_list, node):\n",
    "    def dfs(current_node, depth):\n",
    "        if current_node == node:  # Found the node\n",
    "            return depth\n",
    "        if current_node in adj_list:  # Recur for children\n",
    "            for child in adj_list[current_node]:\n",
    "                result = dfs(child, depth + 1)\n",
    "                if result != -1:\n",
    "                    return result\n",
    "        return -1  # Node not found\n",
    "\n",
    "    return dfs(list(adj_list.keys())[0], 0)  # Start from root\n"
   ]
  },
  {
   "cell_type": "code",
   "execution_count": null,
   "id": "9c8eef6a",
   "metadata": {},
   "outputs": [],
   "source": []
  }
 ],
 "metadata": {
  "kernelspec": {
   "display_name": "Python 3",
   "language": "python",
   "name": "python3"
  },
  "language_info": {
   "codemirror_mode": {
    "name": "ipython",
    "version": 3
   },
   "file_extension": ".py",
   "mimetype": "text/x-python",
   "name": "python",
   "nbconvert_exporter": "python",
   "pygments_lexer": "ipython3",
   "version": "3.12.10"
  }
 },
 "nbformat": 4,
 "nbformat_minor": 5
}
